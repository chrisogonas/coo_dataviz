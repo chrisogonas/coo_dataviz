{
  "nbformat": 4,
  "nbformat_minor": 0,
  "metadata": {
    "colab": {
      "name": "dataviz_linear_regression.ipynb",
      "provenance": [],
      "collapsed_sections": [],
      "toc_visible": true,
      "machine_shape": "hm",
      "include_colab_link": true
    },
    "kernelspec": {
      "name": "python3",
      "display_name": "Python 3"
    }
  },
  "cells": [
    {
      "cell_type": "markdown",
      "metadata": {
        "id": "view-in-github",
        "colab_type": "text"
      },
      "source": [
        "<a href=\"https://colab.research.google.com/github/chrisogonas/coo_dataviz/blob/main/dataviz_linear_regression.ipynb\" target=\"_parent\"><img src=\"https://colab.research.google.com/assets/colab-badge.svg\" alt=\"Open In Colab\"/></a>"
      ]
    },
    {
      "cell_type": "markdown",
      "metadata": {
        "id": "0MRC0e0KhQ0S"
      },
      "source": [
        "# Multiple Linear Regression - Band Size Selection"
      ]
    },
    {
      "cell_type": "markdown",
      "metadata": {
        "id": "LWd1UlMnhT2s"
      },
      "source": [
        "## Importing the libraries"
      ]
    },
    {
      "cell_type": "code",
      "metadata": {
        "id": "YvGPUQaHhXfL"
      },
      "source": [
        "import numpy as np\n",
        "import matplotlib.pyplot as plt\n",
        "import pandas as pd\n",
        "%matplotlib inline"
      ],
      "execution_count": 1,
      "outputs": []
    },
    {
      "cell_type": "markdown",
      "metadata": {
        "id": "K1VMqkGvhc3-"
      },
      "source": [
        "## Importing the dataset"
      ]
    },
    {
      "cell_type": "code",
      "metadata": {
        "id": "M52QDmyzhh9s",
        "colab": {
          "base_uri": "https://localhost:8080/"
        },
        "outputId": "59f35036-9996-4942-8236-249b50bd6b86"
      },
      "source": [
        "dataset = pd.read_csv('/content/sample_data/ParticipantFinalSelectionMerged.csv')\n",
        "X = dataset.iloc[:, 1:-2].values # leave out subject number\n",
        "y = dataset.iloc[:, -2].values # train with the Selected Band Size as the ground truth\n",
        "print(X)\n"
      ],
      "execution_count": 2,
      "outputs": [
        {
          "output_type": "stream",
          "text": [
            "[['Male' 'White' '30-39' 165]\n",
            " ['Female' 'East Asian' '30-39' 152]\n",
            " ['Female' 'White' '20-29' 169]\n",
            " ...\n",
            " ['Female' 'White' '<20' 168]\n",
            " ['Female' 'East Asian' '<20' 170]\n",
            " ['Female' 'White' '30-39' 157]]\n"
          ],
          "name": "stdout"
        }
      ]
    },
    {
      "cell_type": "code",
      "metadata": {
        "id": "MTmd-uBulTGj",
        "colab": {
          "base_uri": "https://localhost:8080/"
        },
        "outputId": "e3c3ca89-c9bf-4e71-ce41-bd6327d457e4"
      },
      "source": [
        "print(y)"
      ],
      "execution_count": 3,
      "outputs": [
        {
          "output_type": "stream",
          "text": [
            "[5 4 5 ... 5 5 4]\n"
          ],
          "name": "stdout"
        }
      ]
    },
    {
      "cell_type": "code",
      "metadata": {
        "colab": {
          "base_uri": "https://localhost:8080/"
        },
        "id": "iPqGfBOIK8ai",
        "outputId": "7aacd350-f715-48fa-ec65-e3c05d885f9a"
      },
      "source": [
        "# Encoding Independent Categorical variable\r\n",
        "from sklearn.compose import ColumnTransformer\r\n",
        "from sklearn.preprocessing import OneHotEncoder\r\n",
        "ct = ColumnTransformer(transformers=[('encoder', OneHotEncoder(), [0,1,2])], remainder='passthrough')\r\n",
        "X = np.array(ct.fit_transform(X))\r\n",
        "# print(X)\r\n",
        "print(X)"
      ],
      "execution_count": 4,
      "outputs": [
        {
          "output_type": "stream",
          "text": [
            "[[0.0 1.0 0.0 ... 0.0 0.0 165]\n",
            " [1.0 0.0 0.0 ... 0.0 0.0 152]\n",
            " [1.0 0.0 0.0 ... 0.0 0.0 169]\n",
            " ...\n",
            " [1.0 0.0 0.0 ... 1.0 0.0 168]\n",
            " [1.0 0.0 0.0 ... 1.0 0.0 170]\n",
            " [1.0 0.0 0.0 ... 0.0 0.0 157]]\n"
          ],
          "name": "stdout"
        }
      ]
    },
    {
      "cell_type": "code",
      "metadata": {
        "id": "yrIByH3VmAl4",
        "colab": {
          "base_uri": "https://localhost:8080/"
        },
        "outputId": "67f5cc1e-57f6-4b89-f1e7-005978e996b1"
      },
      "source": [
        "y # print(X)"
      ],
      "execution_count": 10,
      "outputs": [
        {
          "output_type": "execute_result",
          "data": {
            "text/plain": [
              "array([5, 4, 5, ..., 5, 5, 4])"
            ]
          },
          "metadata": {
            "tags": []
          },
          "execution_count": 10
        }
      ]
    },
    {
      "cell_type": "code",
      "metadata": {
        "id": "bOp4gnOGmzj_",
        "colab": {
          "base_uri": "https://localhost:8080/"
        },
        "outputId": "b3eb0137-a562-46bd-a529-2c4c2caec59c"
      },
      "source": [
        "print(y)"
      ],
      "execution_count": 13,
      "outputs": [
        {
          "output_type": "stream",
          "text": [
            "[5 4 5 ... 5 5 4]\n"
          ],
          "name": "stdout"
        }
      ]
    },
    {
      "cell_type": "markdown",
      "metadata": {
        "id": "YvxIPVyMhmKp"
      },
      "source": [
        "## Splitting the dataset into the Training set and Test set"
      ]
    },
    {
      "cell_type": "code",
      "metadata": {
        "id": "AVzJWAXIhxoC"
      },
      "source": [
        "from sklearn.model_selection import train_test_split\n",
        "X_train, X_test, y_train, y_test = train_test_split(X, y, test_size = 0.2, random_state = 0)"
      ],
      "execution_count": 7,
      "outputs": []
    },
    {
      "cell_type": "markdown",
      "metadata": {
        "id": "bb6jCOCQiAmP"
      },
      "source": [
        "## Training the Multiple Linear Regression model on the Training set"
      ]
    },
    {
      "cell_type": "code",
      "metadata": {
        "id": "e0pFVAmciHQs",
        "colab": {
          "base_uri": "https://localhost:8080/"
        },
        "outputId": "e04f548b-bccf-4bb9-da5c-7f939f98c867"
      },
      "source": [
        "from sklearn.linear_model import LinearRegression\n",
        "regressor = LinearRegression()\n",
        "regressor.fit(X_train, y_train)"
      ],
      "execution_count": 8,
      "outputs": [
        {
          "output_type": "execute_result",
          "data": {
            "text/plain": [
              "LinearRegression(copy_X=True, fit_intercept=True, n_jobs=None, normalize=False)"
            ]
          },
          "metadata": {
            "tags": []
          },
          "execution_count": 8
        }
      ]
    },
    {
      "cell_type": "markdown",
      "metadata": {
        "id": "vKYVQH-l5NpE"
      },
      "source": [
        "## Predicting the Test set results\r\n",
        "\r\n"
      ]
    },
    {
      "cell_type": "code",
      "metadata": {
        "id": "p6VMTb2O4hwM",
        "colab": {
          "base_uri": "https://localhost:8080/"
        },
        "outputId": "1b8e5764-4203-486c-de11-9161820f434c"
      },
      "source": [
        "y_pred = regressor.predict(X_test)\n",
        "np.set_printoptions(precision=0)\n",
        "print(np.concatenate((y_pred.reshape(len(y_pred),1), y_test.reshape(len(y_test),1)),1))"
      ],
      "execution_count": 15,
      "outputs": [
        {
          "output_type": "stream",
          "text": [
            "[[5. 5.]\n",
            " [5. 5.]\n",
            " [5. 5.]\n",
            " [5. 5.]\n",
            " [3. 4.]\n",
            " [6. 6.]\n",
            " [7. 7.]\n",
            " [4. 4.]\n",
            " [5. 5.]\n",
            " [4. 4.]\n",
            " [7. 7.]\n",
            " [7. 7.]\n",
            " [8. 8.]\n",
            " [6. 5.]\n",
            " [4. 4.]\n",
            " [3. 3.]\n",
            " [7. 7.]\n",
            " [3. 3.]\n",
            " [4. 5.]\n",
            " [3. 3.]\n",
            " [6. 6.]\n",
            " [6. 6.]\n",
            " [4. 4.]\n",
            " [4. 4.]\n",
            " [4. 4.]\n",
            " [7. 7.]\n",
            " [8. 8.]\n",
            " [4. 4.]\n",
            " [5. 5.]\n",
            " [4. 5.]\n",
            " [6. 6.]\n",
            " [4. 4.]\n",
            " [4. 5.]\n",
            " [5. 5.]\n",
            " [7. 7.]\n",
            " [3. 3.]\n",
            " [5. 5.]\n",
            " [5. 5.]\n",
            " [4. 4.]\n",
            " [4. 4.]\n",
            " [4. 4.]\n",
            " [4. 4.]\n",
            " [8. 7.]\n",
            " [3. 3.]\n",
            " [6. 6.]\n",
            " [7. 7.]\n",
            " [5. 4.]\n",
            " [7. 7.]\n",
            " [6. 6.]\n",
            " [4. 4.]\n",
            " [4. 4.]\n",
            " [5. 5.]\n",
            " [3. 3.]\n",
            " [6. 6.]\n",
            " [8. 8.]\n",
            " [7. 7.]\n",
            " [5. 5.]\n",
            " [4. 4.]\n",
            " [7. 7.]\n",
            " [5. 5.]\n",
            " [4. 4.]\n",
            " [5. 5.]\n",
            " [4. 4.]\n",
            " [4. 4.]\n",
            " [7. 7.]\n",
            " [4. 4.]\n",
            " [4. 4.]\n",
            " [5. 5.]\n",
            " [6. 6.]\n",
            " [6. 6.]\n",
            " [6. 6.]\n",
            " [7. 7.]\n",
            " [5. 5.]\n",
            " [5. 5.]\n",
            " [9. 9.]\n",
            " [8. 7.]\n",
            " [4. 4.]\n",
            " [4. 5.]\n",
            " [6. 6.]\n",
            " [6. 6.]\n",
            " [7. 7.]\n",
            " [5. 5.]\n",
            " [7. 7.]\n",
            " [6. 6.]\n",
            " [6. 6.]\n",
            " [4. 4.]\n",
            " [2. 2.]\n",
            " [4. 4.]\n",
            " [6. 5.]\n",
            " [6. 6.]\n",
            " [4. 5.]\n",
            " [6. 6.]\n",
            " [4. 4.]\n",
            " [8. 8.]\n",
            " [6. 6.]\n",
            " [4. 4.]\n",
            " [7. 7.]\n",
            " [3. 3.]\n",
            " [5. 6.]\n",
            " [3. 3.]\n",
            " [6. 6.]\n",
            " [5. 5.]\n",
            " [6. 6.]\n",
            " [7. 7.]\n",
            " [5. 5.]\n",
            " [6. 6.]\n",
            " [6. 6.]\n",
            " [7. 8.]\n",
            " [6. 6.]\n",
            " [6. 6.]\n",
            " [7. 7.]\n",
            " [4. 4.]\n",
            " [6. 6.]\n",
            " [6. 5.]\n",
            " [3. 3.]\n",
            " [4. 4.]\n",
            " [4. 4.]\n",
            " [4. 4.]\n",
            " [8. 8.]\n",
            " [4. 4.]\n",
            " [5. 5.]\n",
            " [7. 7.]\n",
            " [8. 8.]\n",
            " [7. 7.]\n",
            " [6. 6.]\n",
            " [5. 4.]\n",
            " [5. 5.]\n",
            " [7. 7.]\n",
            " [6. 6.]\n",
            " [3. 3.]\n",
            " [7. 7.]\n",
            " [5. 5.]\n",
            " [3. 3.]\n",
            " [5. 5.]\n",
            " [4. 5.]\n",
            " [7. 7.]\n",
            " [2. 2.]\n",
            " [7. 7.]\n",
            " [5. 5.]\n",
            " [6. 6.]\n",
            " [6. 6.]\n",
            " [8. 8.]\n",
            " [8. 8.]\n",
            " [6. 6.]\n",
            " [8. 8.]\n",
            " [5. 5.]\n",
            " [7. 7.]\n",
            " [5. 5.]\n",
            " [7. 7.]\n",
            " [4. 4.]\n",
            " [5. 5.]\n",
            " [6. 6.]\n",
            " [5. 5.]\n",
            " [3. 3.]\n",
            " [3. 3.]\n",
            " [8. 8.]\n",
            " [6. 6.]\n",
            " [7. 7.]\n",
            " [6. 6.]\n",
            " [4. 4.]\n",
            " [7. 7.]\n",
            " [5. 5.]\n",
            " [7. 7.]\n",
            " [3. 3.]\n",
            " [4. 4.]\n",
            " [4. 4.]\n",
            " [7. 7.]\n",
            " [7. 7.]\n",
            " [3. 3.]\n",
            " [5. 5.]\n",
            " [6. 6.]\n",
            " [6. 6.]\n",
            " [7. 7.]\n",
            " [4. 4.]\n",
            " [3. 3.]\n",
            " [5. 5.]\n",
            " [4. 4.]\n",
            " [5. 5.]\n",
            " [5. 5.]\n",
            " [4. 4.]\n",
            " [6. 6.]\n",
            " [6. 6.]\n",
            " [4. 4.]\n",
            " [3. 3.]\n",
            " [6. 6.]\n",
            " [6. 6.]\n",
            " [4. 4.]\n",
            " [4. 5.]\n",
            " [6. 6.]\n",
            " [6. 6.]\n",
            " [4. 4.]\n",
            " [6. 5.]\n",
            " [3. 3.]\n",
            " [5. 5.]\n",
            " [6. 6.]\n",
            " [5. 6.]\n",
            " [5. 5.]\n",
            " [7. 7.]\n",
            " [6. 6.]\n",
            " [6. 6.]\n",
            " [5. 5.]\n",
            " [4. 5.]\n",
            " [4. 4.]\n",
            " [6. 7.]\n",
            " [7. 7.]\n",
            " [3. 4.]\n",
            " [3. 3.]\n",
            " [5. 5.]\n",
            " [7. 7.]\n",
            " [5. 5.]\n",
            " [4. 4.]\n",
            " [7. 7.]\n",
            " [6. 6.]\n",
            " [5. 5.]\n",
            " [5. 5.]\n",
            " [4. 4.]\n",
            " [8. 8.]\n",
            " [3. 3.]\n",
            " [5. 5.]\n",
            " [6. 6.]\n",
            " [3. 3.]\n",
            " [3. 3.]\n",
            " [4. 4.]\n",
            " [5. 5.]\n",
            " [8. 8.]\n",
            " [7. 7.]\n",
            " [6. 6.]\n",
            " [3. 3.]\n",
            " [3. 3.]\n",
            " [6. 6.]\n",
            " [5. 5.]\n",
            " [6. 6.]\n",
            " [6. 6.]\n",
            " [5. 5.]\n",
            " [5. 5.]\n",
            " [3. 2.]\n",
            " [5. 5.]\n",
            " [5. 5.]\n",
            " [4. 4.]\n",
            " [5. 5.]\n",
            " [6. 6.]\n",
            " [3. 3.]\n",
            " [4. 4.]\n",
            " [5. 5.]\n",
            " [7. 7.]\n",
            " [6. 7.]\n",
            " [5. 5.]\n",
            " [6. 6.]\n",
            " [5. 5.]\n",
            " [6. 6.]\n",
            " [8. 8.]\n",
            " [7. 6.]\n",
            " [4. 5.]\n",
            " [5. 5.]\n",
            " [8. 7.]\n",
            " [7. 7.]\n",
            " [7. 7.]\n",
            " [6. 6.]\n",
            " [4. 4.]\n",
            " [6. 6.]\n",
            " [6. 7.]\n",
            " [6. 6.]\n",
            " [7. 7.]\n",
            " [3. 3.]\n",
            " [3. 3.]\n",
            " [8. 8.]\n",
            " [4. 4.]\n",
            " [4. 4.]\n",
            " [5. 5.]\n",
            " [6. 6.]\n",
            " [6. 7.]\n",
            " [4. 4.]\n",
            " [8. 8.]\n",
            " [4. 4.]\n",
            " [8. 8.]\n",
            " [6. 6.]\n",
            " [8. 8.]\n",
            " [5. 5.]\n",
            " [5. 5.]\n",
            " [4. 4.]\n",
            " [6. 6.]\n",
            " [4. 4.]\n",
            " [6. 6.]\n",
            " [4. 4.]\n",
            " [4. 4.]\n",
            " [8. 8.]\n",
            " [8. 8.]\n",
            " [3. 3.]\n",
            " [6. 7.]\n",
            " [6. 6.]\n",
            " [4. 4.]\n",
            " [6. 6.]\n",
            " [4. 4.]\n",
            " [7. 7.]\n",
            " [4. 4.]\n",
            " [6. 6.]\n",
            " [7. 7.]\n",
            " [5. 5.]\n",
            " [7. 7.]\n",
            " [5. 5.]\n",
            " [8. 8.]\n",
            " [6. 6.]\n",
            " [4. 4.]\n",
            " [8. 8.]\n",
            " [8. 8.]\n",
            " [7. 6.]\n",
            " [3. 3.]\n",
            " [5. 5.]\n",
            " [4. 4.]\n",
            " [4. 4.]\n",
            " [4. 4.]\n",
            " [6. 6.]\n",
            " [4. 4.]\n",
            " [4. 4.]\n",
            " [8. 8.]\n",
            " [7. 7.]\n",
            " [5. 5.]\n",
            " [5. 5.]\n",
            " [4. 4.]\n",
            " [5. 5.]\n",
            " [5. 5.]\n",
            " [8. 8.]\n",
            " [3. 3.]\n",
            " [8. 8.]\n",
            " [7. 7.]\n",
            " [5. 5.]\n",
            " [7. 7.]\n",
            " [3. 3.]\n",
            " [8. 8.]\n",
            " [5. 5.]\n",
            " [6. 6.]\n",
            " [5. 6.]\n",
            " [4. 4.]\n",
            " [7. 7.]\n",
            " [5. 5.]\n",
            " [8. 8.]\n",
            " [6. 6.]\n",
            " [6. 6.]\n",
            " [4. 4.]\n",
            " [8. 8.]\n",
            " [5. 5.]\n",
            " [5. 5.]\n",
            " [8. 8.]\n",
            " [5. 5.]\n",
            " [8. 8.]\n",
            " [5. 5.]\n",
            " [6. 6.]\n",
            " [4. 4.]\n",
            " [5. 5.]\n",
            " [5. 5.]\n",
            " [5. 5.]\n",
            " [4. 4.]\n",
            " [3. 3.]\n",
            " [6. 6.]\n",
            " [4. 4.]\n",
            " [7. 8.]\n",
            " [3. 3.]\n",
            " [5. 5.]\n",
            " [3. 4.]\n",
            " [8. 8.]\n",
            " [4. 5.]\n",
            " [7. 7.]\n",
            " [7. 7.]\n",
            " [6. 6.]\n",
            " [3. 3.]\n",
            " [5. 5.]\n",
            " [6. 6.]\n",
            " [4. 4.]\n",
            " [8. 8.]\n",
            " [4. 4.]\n",
            " [7. 7.]\n",
            " [7. 7.]\n",
            " [7. 7.]\n",
            " [6. 6.]\n",
            " [3. 3.]\n",
            " [7. 7.]\n",
            " [7. 7.]\n",
            " [5. 5.]\n",
            " [6. 6.]\n",
            " [8. 7.]\n",
            " [6. 6.]\n",
            " [5. 5.]\n",
            " [7. 7.]\n",
            " [5. 5.]\n",
            " [6. 6.]\n",
            " [7. 7.]\n",
            " [4. 4.]\n",
            " [4. 4.]\n",
            " [7. 7.]\n",
            " [7. 6.]\n",
            " [4. 4.]\n",
            " [7. 7.]\n",
            " [4. 4.]\n",
            " [7. 8.]\n",
            " [6. 6.]\n",
            " [7. 7.]\n",
            " [4. 4.]\n",
            " [8. 8.]\n",
            " [6. 6.]\n",
            " [4. 4.]]\n"
          ],
          "name": "stdout"
        }
      ]
    }
  ]
}