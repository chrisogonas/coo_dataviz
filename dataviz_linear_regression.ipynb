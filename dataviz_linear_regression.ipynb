{
  "nbformat": 4,
  "nbformat_minor": 0,
  "metadata": {
    "colab": {
      "name": "dataviz_linear_regression.ipynb",
      "provenance": [],
      "collapsed_sections": [],
      "toc_visible": true,
      "machine_shape": "hm",
      "include_colab_link": true
    },
    "kernelspec": {
      "name": "python3",
      "display_name": "Python 3"
    }
  },
  "cells": [
    {
      "cell_type": "markdown",
      "metadata": {
        "id": "view-in-github",
        "colab_type": "text"
      },
      "source": [
        "<a href=\"https://colab.research.google.com/github/chrisogonas/coo_dataviz/blob/main/dataviz_linear_regression.ipynb\" target=\"_parent\"><img src=\"https://colab.research.google.com/assets/colab-badge.svg\" alt=\"Open In Colab\"/></a>"
      ]
    },
    {
      "cell_type": "markdown",
      "metadata": {
        "id": "0MRC0e0KhQ0S"
      },
      "source": [
        "# Multiple Linear Regression - Band Size Selection"
      ]
    },
    {
      "cell_type": "markdown",
      "metadata": {
        "id": "LWd1UlMnhT2s"
      },
      "source": [
        "## Importing the libraries"
      ]
    },
    {
      "cell_type": "code",
      "metadata": {
        "id": "YvGPUQaHhXfL"
      },
      "source": [
        "import numpy as np\n",
        "import matplotlib.pyplot as plt\n",
        "import pandas as pd\n",
        "%matplotlib inline"
      ],
      "execution_count": 1,
      "outputs": []
    },
    {
      "cell_type": "markdown",
      "metadata": {
        "id": "K1VMqkGvhc3-"
      },
      "source": [
        "## Importing the dataset"
      ]
    },
    {
      "cell_type": "code",
      "metadata": {
        "id": "M52QDmyzhh9s",
        "colab": {
          "base_uri": "https://localhost:8080/"
        },
        "outputId": "61a5d79e-458c-4e7c-f1e8-b3ac4a57ecfa"
      },
      "source": [
        "dataset = pd.read_csv('ParticipantFinalSelectionMerged.csv')\n",
        "X = dataset.iloc[:, 1:-2].values # leave out subject number\n",
        "y = dataset.iloc[:, -2].values # train with the Selected Band Size as the ground truth\n",
        "print(X)\n"
      ],
      "execution_count": 2,
      "outputs": [
        {
          "output_type": "stream",
          "text": [
            "[['Male' 'White' '30-39' 165]\n",
            " ['Female' 'East Asian' '30-39' 152]\n",
            " ['Female' 'White' '20-29' 169]\n",
            " ...\n",
            " ['Female' 'White' '<20' 168]\n",
            " ['Female' 'East Asian' '<20' 170]\n",
            " ['Female' 'White' '30-39' 157]]\n"
          ],
          "name": "stdout"
        }
      ]
    },
    {
      "cell_type": "code",
      "metadata": {
        "id": "MTmd-uBulTGj",
        "colab": {
          "base_uri": "https://localhost:8080/"
        },
        "outputId": "a4a04440-7b16-4604-aa06-ce0409a19e66"
      },
      "source": [
        "print(y)"
      ],
      "execution_count": 3,
      "outputs": [
        {
          "output_type": "stream",
          "text": [
            "[5 4 5 ... 5 5 4]\n"
          ],
          "name": "stdout"
        }
      ]
    },
    {
      "cell_type": "code",
      "metadata": {
        "colab": {
          "base_uri": "https://localhost:8080/"
        },
        "id": "iPqGfBOIK8ai",
        "outputId": "a6114f99-300f-42df-fd68-8e2c70698ba8"
      },
      "source": [
        "# Encoding Independent Categorical variable\r\n",
        "from sklearn.compose import ColumnTransformer\r\n",
        "from sklearn.preprocessing import OneHotEncoder\r\n",
        "ct = ColumnTransformer(transformers=[('encoder', OneHotEncoder(), [0,1,2])], remainder='passthrough')\r\n",
        "X = np.array(ct.fit_transform(X))\r\n",
        "# print(X)\r\n",
        "print(X)"
      ],
      "execution_count": 4,
      "outputs": [
        {
          "output_type": "stream",
          "text": [
            "[[0.0 1.0 0.0 ... 0.0 0.0 165]\n",
            " [1.0 0.0 0.0 ... 0.0 0.0 152]\n",
            " [1.0 0.0 0.0 ... 0.0 0.0 169]\n",
            " ...\n",
            " [1.0 0.0 0.0 ... 1.0 0.0 168]\n",
            " [1.0 0.0 0.0 ... 1.0 0.0 170]\n",
            " [1.0 0.0 0.0 ... 0.0 0.0 157]]\n"
          ],
          "name": "stdout"
        }
      ]
    },
    {
      "cell_type": "code",
      "metadata": {
        "id": "yrIByH3VmAl4",
        "colab": {
          "base_uri": "https://localhost:8080/"
        },
        "outputId": "05890574-672c-4f1c-d505-81f078a1b1c2"
      },
      "source": [
        "y # print(X)"
      ],
      "execution_count": 5,
      "outputs": [
        {
          "output_type": "execute_result",
          "data": {
            "text/plain": [
              "array([5, 4, 5, ..., 5, 5, 4])"
            ]
          },
          "metadata": {
            "tags": []
          },
          "execution_count": 5
        }
      ]
    },
    {
      "cell_type": "code",
      "metadata": {
        "id": "bOp4gnOGmzj_",
        "colab": {
          "base_uri": "https://localhost:8080/"
        },
        "outputId": "528e716f-e308-4a5e-b41e-b6d6e279926e"
      },
      "source": [
        "print(y)"
      ],
      "execution_count": 6,
      "outputs": [
        {
          "output_type": "stream",
          "text": [
            "[5 4 5 ... 5 5 4]\n"
          ],
          "name": "stdout"
        }
      ]
    },
    {
      "cell_type": "markdown",
      "metadata": {
        "id": "YvxIPVyMhmKp"
      },
      "source": [
        "## Splitting the dataset into the Training set and Test set"
      ]
    },
    {
      "cell_type": "code",
      "metadata": {
        "id": "AVzJWAXIhxoC"
      },
      "source": [
        "from sklearn.model_selection import train_test_split\n",
        "X_train, X_test, y_train, y_test = train_test_split(X, y, test_size = 0.2, random_state = 0)"
      ],
      "execution_count": 7,
      "outputs": []
    },
    {
      "cell_type": "markdown",
      "metadata": {
        "id": "bb6jCOCQiAmP"
      },
      "source": [
        "## Training the Multiple Linear Regression model on the Training set"
      ]
    },
    {
      "cell_type": "code",
      "metadata": {
        "id": "e0pFVAmciHQs",
        "colab": {
          "base_uri": "https://localhost:8080/"
        },
        "outputId": "bd624d94-ef90-4872-c8ce-8844175c9621"
      },
      "source": [
        "from sklearn.linear_model import LinearRegression\n",
        "regressor = LinearRegression()\n",
        "regressor.fit(X_train, y_train)"
      ],
      "execution_count": 8,
      "outputs": [
        {
          "output_type": "execute_result",
          "data": {
            "text/plain": [
              "LinearRegression(copy_X=True, fit_intercept=True, n_jobs=None, normalize=False)"
            ]
          },
          "metadata": {
            "tags": []
          },
          "execution_count": 8
        }
      ]
    },
    {
      "cell_type": "markdown",
      "metadata": {
        "id": "vKYVQH-l5NpE"
      },
      "source": [
        "## Predicting the Test set results\r\n",
        "\r\n"
      ]
    },
    {
      "cell_type": "code",
      "metadata": {
        "id": "p6VMTb2O4hwM",
        "colab": {
          "base_uri": "https://localhost:8080/"
        },
        "outputId": "0b8be1e7-cbbb-4fca-9765-8b5e5a35cea2"
      },
      "source": [
        "y_pred = regressor.predict(X_test)\n",
        "np.set_printoptions(precision=0)\n",
        "print(np.concatenate((y_pred.reshape(len(y_pred),1), y_test.reshape(len(y_test),1)),1))"
      ],
      "execution_count": 9,
      "outputs": [
        {
          "output_type": "stream",
          "text": [
            "[[5. 5.]\n",
            " [5. 5.]\n",
            " [5. 5.]\n",
            " [5. 5.]\n",
            " [3. 4.]\n",
            " [6. 6.]\n",
            " [7. 7.]\n",
            " [4. 4.]\n",
            " [5. 5.]\n",
            " [4. 4.]\n",
            " [7. 7.]\n",
            " [7. 7.]\n",
            " [8. 8.]\n",
            " [6. 5.]\n",
            " [4. 4.]\n",
            " [3. 3.]\n",
            " [7. 7.]\n",
            " [3. 3.]\n",
            " [4. 5.]\n",
            " [3. 3.]\n",
            " [6. 6.]\n",
            " [6. 6.]\n",
            " [4. 4.]\n",
            " [4. 4.]\n",
            " [4. 4.]\n",
            " [7. 7.]\n",
            " [8. 8.]\n",
            " [4. 4.]\n",
            " [5. 5.]\n",
            " [4. 5.]\n",
            " [6. 6.]\n",
            " [4. 4.]\n",
            " [4. 5.]\n",
            " [5. 5.]\n",
            " [7. 7.]\n",
            " [3. 3.]\n",
            " [5. 5.]\n",
            " [5. 5.]\n",
            " [4. 4.]\n",
            " [4. 4.]\n",
            " [4. 4.]\n",
            " [4. 4.]\n",
            " [8. 7.]\n",
            " [3. 3.]\n",
            " [6. 6.]\n",
            " [7. 7.]\n",
            " [5. 4.]\n",
            " [7. 7.]\n",
            " [6. 6.]\n",
            " [4. 4.]\n",
            " [4. 4.]\n",
            " [5. 5.]\n",
            " [3. 3.]\n",
            " [6. 6.]\n",
            " [8. 8.]\n",
            " [7. 7.]\n",
            " [5. 5.]\n",
            " [4. 4.]\n",
            " [7. 7.]\n",
            " [5. 5.]\n",
            " [4. 4.]\n",
            " [5. 5.]\n",
            " [4. 4.]\n",
            " [4. 4.]\n",
            " [7. 7.]\n",
            " [4. 4.]\n",
            " [4. 4.]\n",
            " [5. 5.]\n",
            " [6. 6.]\n",
            " [6. 6.]\n",
            " [6. 6.]\n",
            " [7. 7.]\n",
            " [5. 5.]\n",
            " [5. 5.]\n",
            " [9. 9.]\n",
            " [8. 7.]\n",
            " [4. 4.]\n",
            " [4. 5.]\n",
            " [6. 6.]\n",
            " [6. 6.]\n",
            " [7. 7.]\n",
            " [5. 5.]\n",
            " [7. 7.]\n",
            " [6. 6.]\n",
            " [6. 6.]\n",
            " [4. 4.]\n",
            " [2. 2.]\n",
            " [4. 4.]\n",
            " [6. 5.]\n",
            " [6. 6.]\n",
            " [4. 5.]\n",
            " [6. 6.]\n",
            " [4. 4.]\n",
            " [8. 8.]\n",
            " [6. 6.]\n",
            " [4. 4.]\n",
            " [7. 7.]\n",
            " [3. 3.]\n",
            " [5. 6.]\n",
            " [3. 3.]\n",
            " [6. 6.]\n",
            " [5. 5.]\n",
            " [6. 6.]\n",
            " [7. 7.]\n",
            " [5. 5.]\n",
            " [6. 6.]\n",
            " [6. 6.]\n",
            " [7. 8.]\n",
            " [6. 6.]\n",
            " [6. 6.]\n",
            " [7. 7.]\n",
            " [4. 4.]\n",
            " [6. 6.]\n",
            " [6. 5.]\n",
            " [3. 3.]\n",
            " [4. 4.]\n",
            " [4. 4.]\n",
            " [4. 4.]\n",
            " [8. 8.]\n",
            " [4. 4.]\n",
            " [5. 5.]\n",
            " [7. 7.]\n",
            " [8. 8.]\n",
            " [7. 7.]\n",
            " [6. 6.]\n",
            " [5. 4.]\n",
            " [5. 5.]\n",
            " [7. 7.]\n",
            " [6. 6.]\n",
            " [3. 3.]\n",
            " [7. 7.]\n",
            " [5. 5.]\n",
            " [3. 3.]\n",
            " [5. 5.]\n",
            " [4. 5.]\n",
            " [7. 7.]\n",
            " [2. 2.]\n",
            " [7. 7.]\n",
            " [5. 5.]\n",
            " [6. 6.]\n",
            " [6. 6.]\n",
            " [8. 8.]\n",
            " [8. 8.]\n",
            " [6. 6.]\n",
            " [8. 8.]\n",
            " [5. 5.]\n",
            " [7. 7.]\n",
            " [5. 5.]\n",
            " [7. 7.]\n",
            " [4. 4.]\n",
            " [5. 5.]\n",
            " [6. 6.]\n",
            " [5. 5.]\n",
            " [3. 3.]\n",
            " [3. 3.]\n",
            " [8. 8.]\n",
            " [6. 6.]\n",
            " [7. 7.]\n",
            " [6. 6.]\n",
            " [4. 4.]\n",
            " [7. 7.]\n",
            " [5. 5.]\n",
            " [7. 7.]\n",
            " [3. 3.]\n",
            " [4. 4.]\n",
            " [4. 4.]\n",
            " [7. 7.]\n",
            " [7. 7.]\n",
            " [3. 3.]\n",
            " [5. 5.]\n",
            " [6. 6.]\n",
            " [6. 6.]\n",
            " [7. 7.]\n",
            " [4. 4.]\n",
            " [3. 3.]\n",
            " [5. 5.]\n",
            " [4. 4.]\n",
            " [5. 5.]\n",
            " [5. 5.]\n",
            " [4. 4.]\n",
            " [6. 6.]\n",
            " [6. 6.]\n",
            " [4. 4.]\n",
            " [3. 3.]\n",
            " [6. 6.]\n",
            " [6. 6.]\n",
            " [4. 4.]\n",
            " [4. 5.]\n",
            " [6. 6.]\n",
            " [6. 6.]\n",
            " [4. 4.]\n",
            " [6. 5.]\n",
            " [3. 3.]\n",
            " [5. 5.]\n",
            " [6. 6.]\n",
            " [5. 6.]\n",
            " [5. 5.]\n",
            " [7. 7.]\n",
            " [6. 6.]\n",
            " [6. 6.]\n",
            " [5. 5.]\n",
            " [4. 5.]\n",
            " [4. 4.]\n",
            " [6. 7.]\n",
            " [7. 7.]\n",
            " [3. 4.]\n",
            " [3. 3.]\n",
            " [5. 5.]\n",
            " [7. 7.]\n",
            " [5. 5.]\n",
            " [4. 4.]\n",
            " [7. 7.]\n",
            " [6. 6.]\n",
            " [5. 5.]\n",
            " [5. 5.]\n",
            " [4. 4.]\n",
            " [8. 8.]\n",
            " [3. 3.]\n",
            " [5. 5.]\n",
            " [6. 6.]\n",
            " [3. 3.]\n",
            " [3. 3.]\n",
            " [4. 4.]\n",
            " [5. 5.]\n",
            " [8. 8.]\n",
            " [7. 7.]\n",
            " [6. 6.]\n",
            " [3. 3.]\n",
            " [3. 3.]\n",
            " [6. 6.]\n",
            " [5. 5.]\n",
            " [6. 6.]\n",
            " [6. 6.]\n",
            " [5. 5.]\n",
            " [5. 5.]\n",
            " [3. 2.]\n",
            " [5. 5.]\n",
            " [5. 5.]\n",
            " [4. 4.]\n",
            " [5. 5.]\n",
            " [6. 6.]\n",
            " [3. 3.]\n",
            " [4. 4.]\n",
            " [5. 5.]\n",
            " [7. 7.]\n",
            " [6. 7.]\n",
            " [5. 5.]\n",
            " [6. 6.]\n",
            " [5. 5.]\n",
            " [6. 6.]\n",
            " [8. 8.]\n",
            " [7. 6.]\n",
            " [4. 5.]\n",
            " [5. 5.]\n",
            " [8. 7.]\n",
            " [7. 7.]\n",
            " [7. 7.]\n",
            " [6. 6.]\n",
            " [4. 4.]\n",
            " [6. 6.]\n",
            " [6. 7.]\n",
            " [6. 6.]\n",
            " [7. 7.]\n",
            " [3. 3.]\n",
            " [3. 3.]\n",
            " [8. 8.]\n",
            " [4. 4.]\n",
            " [4. 4.]\n",
            " [5. 5.]\n",
            " [6. 6.]\n",
            " [6. 7.]\n",
            " [4. 4.]\n",
            " [8. 8.]\n",
            " [4. 4.]\n",
            " [8. 8.]\n",
            " [6. 6.]\n",
            " [8. 8.]\n",
            " [5. 5.]\n",
            " [5. 5.]\n",
            " [4. 4.]\n",
            " [6. 6.]\n",
            " [4. 4.]\n",
            " [6. 6.]\n",
            " [4. 4.]\n",
            " [4. 4.]\n",
            " [8. 8.]\n",
            " [8. 8.]\n",
            " [3. 3.]\n",
            " [6. 7.]\n",
            " [6. 6.]\n",
            " [4. 4.]\n",
            " [6. 6.]\n",
            " [4. 4.]\n",
            " [7. 7.]\n",
            " [4. 4.]\n",
            " [6. 6.]\n",
            " [7. 7.]\n",
            " [5. 5.]\n",
            " [7. 7.]\n",
            " [5. 5.]\n",
            " [8. 8.]\n",
            " [6. 6.]\n",
            " [4. 4.]\n",
            " [8. 8.]\n",
            " [8. 8.]\n",
            " [7. 6.]\n",
            " [3. 3.]\n",
            " [5. 5.]\n",
            " [4. 4.]\n",
            " [4. 4.]\n",
            " [4. 4.]\n",
            " [6. 6.]\n",
            " [4. 4.]\n",
            " [4. 4.]\n",
            " [8. 8.]\n",
            " [7. 7.]\n",
            " [5. 5.]\n",
            " [5. 5.]\n",
            " [4. 4.]\n",
            " [5. 5.]\n",
            " [5. 5.]\n",
            " [8. 8.]\n",
            " [3. 3.]\n",
            " [8. 8.]\n",
            " [7. 7.]\n",
            " [5. 5.]\n",
            " [7. 7.]\n",
            " [3. 3.]\n",
            " [8. 8.]\n",
            " [5. 5.]\n",
            " [6. 6.]\n",
            " [5. 6.]\n",
            " [4. 4.]\n",
            " [7. 7.]\n",
            " [5. 5.]\n",
            " [8. 8.]\n",
            " [6. 6.]\n",
            " [6. 6.]\n",
            " [4. 4.]\n",
            " [8. 8.]\n",
            " [5. 5.]\n",
            " [5. 5.]\n",
            " [8. 8.]\n",
            " [5. 5.]\n",
            " [8. 8.]\n",
            " [5. 5.]\n",
            " [6. 6.]\n",
            " [4. 4.]\n",
            " [5. 5.]\n",
            " [5. 5.]\n",
            " [5. 5.]\n",
            " [4. 4.]\n",
            " [3. 3.]\n",
            " [6. 6.]\n",
            " [4. 4.]\n",
            " [7. 8.]\n",
            " [3. 3.]\n",
            " [5. 5.]\n",
            " [3. 4.]\n",
            " [8. 8.]\n",
            " [4. 5.]\n",
            " [7. 7.]\n",
            " [7. 7.]\n",
            " [6. 6.]\n",
            " [3. 3.]\n",
            " [5. 5.]\n",
            " [6. 6.]\n",
            " [4. 4.]\n",
            " [8. 8.]\n",
            " [4. 4.]\n",
            " [7. 7.]\n",
            " [7. 7.]\n",
            " [7. 7.]\n",
            " [6. 6.]\n",
            " [3. 3.]\n",
            " [7. 7.]\n",
            " [7. 7.]\n",
            " [5. 5.]\n",
            " [6. 6.]\n",
            " [8. 7.]\n",
            " [6. 6.]\n",
            " [5. 5.]\n",
            " [7. 7.]\n",
            " [5. 5.]\n",
            " [6. 6.]\n",
            " [7. 7.]\n",
            " [4. 4.]\n",
            " [4. 4.]\n",
            " [7. 7.]\n",
            " [7. 6.]\n",
            " [4. 4.]\n",
            " [7. 7.]\n",
            " [4. 4.]\n",
            " [7. 8.]\n",
            " [6. 6.]\n",
            " [7. 7.]\n",
            " [4. 4.]\n",
            " [8. 8.]\n",
            " [6. 6.]\n",
            " [4. 4.]]\n"
          ],
          "name": "stdout"
        }
      ]
    },
    {
      "cell_type": "markdown",
      "metadata": {
        "id": "Ww4bpUmYw_Uu"
      },
      "source": [
        ""
      ]
    },
    {
      "cell_type": "code",
      "metadata": {
        "colab": {
          "base_uri": "https://localhost:8080/"
        },
        "id": "dndXe66TmSJm",
        "outputId": "c307983f-8515-4896-957f-ee50caf0e563"
      },
      "source": [
        "np.sum(np.round(y_pred) == np.round(y_test))"
      ],
      "execution_count": 53,
      "outputs": [
        {
          "output_type": "execute_result",
          "data": {
            "text/plain": [
              "362"
            ]
          },
          "metadata": {
            "tags": []
          },
          "execution_count": 53
        }
      ]
    },
    {
      "cell_type": "markdown",
      "metadata": {
        "id": "65lsMO7BxBhG"
      },
      "source": [
        "## Performance Efficiency"
      ]
    },
    {
      "cell_type": "code",
      "metadata": {
        "colab": {
          "base_uri": "https://localhost:8080/"
        },
        "id": "r64PJ-jUtZkp",
        "outputId": "00eb7115-0e80-476b-fb0c-5db483d9dc8d"
      },
      "source": [
        "np.sum(np.round(y_pred) == np.round(y_test))*100/400"
      ],
      "execution_count": 54,
      "outputs": [
        {
          "output_type": "execute_result",
          "data": {
            "text/plain": [
              "90.5"
            ]
          },
          "metadata": {
            "tags": []
          },
          "execution_count": 54
        }
      ]
    }
  ]
}